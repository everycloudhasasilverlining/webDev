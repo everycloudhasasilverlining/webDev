{
 "cells": [
  {
   "cell_type": "code",
   "execution_count": 86,
   "metadata": {},
   "outputs": [],
   "source": [
    "import pandas as pd\n",
    "import numpy as np\n",
    "\n",
    "from sklearn.cluster import KMeans, MiniBatchKMeans\n",
    "from sklearn.preprocessing import MinMaxScaler"
   ]
  },
  {
   "cell_type": "code",
   "execution_count": 87,
   "metadata": {},
   "outputs": [],
   "source": [
    "# data preprocess\n",
    "\n",
    "df = pd.read_csv(\"BankChurners.csv\")\n",
    "df = df.iloc[:,:-2]"
   ]
  },
  {
   "cell_type": "code",
   "execution_count": 88,
   "metadata": {},
   "outputs": [],
   "source": [
    "df.set_index('CLIENTNUM', inplace=True)"
   ]
  },
  {
   "cell_type": "code",
   "execution_count": 89,
   "metadata": {},
   "outputs": [],
   "source": [
    "dfOrigin = df.copy()"
   ]
  },
  {
   "cell_type": "code",
   "execution_count": 90,
   "metadata": {},
   "outputs": [],
   "source": [
    "df = pd.get_dummies(df)"
   ]
  },
  {
   "cell_type": "code",
   "execution_count": 91,
   "metadata": {},
   "outputs": [],
   "source": [
    "scaler = MinMaxScaler()\n",
    "dfNorm = scaler.fit_transform(df)"
   ]
  },
  {
   "cell_type": "code",
   "execution_count": 93,
   "metadata": {},
   "outputs": [],
   "source": [
    "# Kmeans Clustering\n",
    "km = MiniBatchKMeans(n_clusters=4)\n",
    "dfPred = km.fit_predict(dfNorm)"
   ]
  },
  {
   "cell_type": "code",
   "execution_count": 94,
   "metadata": {},
   "outputs": [],
   "source": [
    "df['grp'] = dfPred\n",
    "dfOrigin['grp'] = dfPred"
   ]
  },
  {
   "cell_type": "code",
   "execution_count": 97,
   "metadata": {},
   "outputs": [
    {
     "data": {
      "text/html": [
       "<div>\n",
       "<style scoped>\n",
       "    .dataframe tbody tr th:only-of-type {\n",
       "        vertical-align: middle;\n",
       "    }\n",
       "\n",
       "    .dataframe tbody tr th {\n",
       "        vertical-align: top;\n",
       "    }\n",
       "\n",
       "    .dataframe thead th {\n",
       "        text-align: right;\n",
       "    }\n",
       "</style>\n",
       "<table border=\"1\" class=\"dataframe\">\n",
       "  <thead>\n",
       "    <tr style=\"text-align: right;\">\n",
       "      <th></th>\n",
       "      <th>Total_Trans_Amt</th>\n",
       "      <th>Total_Trans_Ct</th>\n",
       "      <th>Total_Ct_Chng_Q4_Q1</th>\n",
       "      <th>Avg_Utilization_Ratio</th>\n",
       "      <th>Attrition_Flag_Attrited Customer</th>\n",
       "      <th>Attrition_Flag_Existing Customer</th>\n",
       "      <th>Gender_F</th>\n",
       "      <th>Gender_M</th>\n",
       "      <th>Education_Level_College</th>\n",
       "      <th>Education_Level_Doctorate</th>\n",
       "    </tr>\n",
       "    <tr>\n",
       "      <th>grp</th>\n",
       "      <th></th>\n",
       "      <th></th>\n",
       "      <th></th>\n",
       "      <th></th>\n",
       "      <th></th>\n",
       "      <th></th>\n",
       "      <th></th>\n",
       "      <th></th>\n",
       "      <th></th>\n",
       "      <th></th>\n",
       "    </tr>\n",
       "  </thead>\n",
       "  <tbody>\n",
       "    <tr>\n",
       "      <td>0</td>\n",
       "      <td>4469.087529</td>\n",
       "      <td>68.521882</td>\n",
       "      <td>0.709856</td>\n",
       "      <td>0.332319</td>\n",
       "      <td>0.179294</td>\n",
       "      <td>0.820706</td>\n",
       "      <td>1.0</td>\n",
       "      <td>0.0</td>\n",
       "      <td>0.097412</td>\n",
       "      <td>0.045647</td>\n",
       "    </tr>\n",
       "    <tr>\n",
       "      <td>1</td>\n",
       "      <td>4229.163625</td>\n",
       "      <td>64.926384</td>\n",
       "      <td>0.715937</td>\n",
       "      <td>0.348291</td>\n",
       "      <td>0.169811</td>\n",
       "      <td>0.830189</td>\n",
       "      <td>1.0</td>\n",
       "      <td>0.0</td>\n",
       "      <td>0.100526</td>\n",
       "      <td>0.049490</td>\n",
       "    </tr>\n",
       "    <tr>\n",
       "      <td>2</td>\n",
       "      <td>4244.438283</td>\n",
       "      <td>59.597048</td>\n",
       "      <td>0.714976</td>\n",
       "      <td>0.219116</td>\n",
       "      <td>0.132826</td>\n",
       "      <td>0.867174</td>\n",
       "      <td>0.0</td>\n",
       "      <td>1.0</td>\n",
       "      <td>0.101968</td>\n",
       "      <td>0.035331</td>\n",
       "    </tr>\n",
       "    <tr>\n",
       "      <td>3</td>\n",
       "      <td>4713.746940</td>\n",
       "      <td>66.343861</td>\n",
       "      <td>0.707036</td>\n",
       "      <td>0.182274</td>\n",
       "      <td>0.157916</td>\n",
       "      <td>0.842084</td>\n",
       "      <td>0.0</td>\n",
       "      <td>1.0</td>\n",
       "      <td>0.099882</td>\n",
       "      <td>0.045401</td>\n",
       "    </tr>\n",
       "  </tbody>\n",
       "</table>\n",
       "</div>"
      ],
      "text/plain": [
       "     Total_Trans_Amt  Total_Trans_Ct  Total_Ct_Chng_Q4_Q1  \\\n",
       "grp                                                         \n",
       "0        4469.087529       68.521882             0.709856   \n",
       "1        4229.163625       64.926384             0.715937   \n",
       "2        4244.438283       59.597048             0.714976   \n",
       "3        4713.746940       66.343861             0.707036   \n",
       "\n",
       "     Avg_Utilization_Ratio  Attrition_Flag_Attrited Customer  \\\n",
       "grp                                                            \n",
       "0                 0.332319                          0.179294   \n",
       "1                 0.348291                          0.169811   \n",
       "2                 0.219116                          0.132826   \n",
       "3                 0.182274                          0.157916   \n",
       "\n",
       "     Attrition_Flag_Existing Customer  Gender_F  Gender_M  \\\n",
       "grp                                                         \n",
       "0                            0.820706       1.0       0.0   \n",
       "1                            0.830189       1.0       0.0   \n",
       "2                            0.867174       0.0       1.0   \n",
       "3                            0.842084       0.0       1.0   \n",
       "\n",
       "     Education_Level_College  Education_Level_Doctorate  \n",
       "grp                                                      \n",
       "0                   0.097412                   0.045647  \n",
       "1                   0.100526                   0.049490  \n",
       "2                   0.101968                   0.035331  \n",
       "3                   0.099882                   0.045401  "
      ]
     },
     "execution_count": 97,
     "metadata": {},
     "output_type": "execute_result"
    }
   ],
   "source": [
    "df.groupby('grp').mean().iloc[:,10:20]"
   ]
  },
  {
   "cell_type": "code",
   "execution_count": 65,
   "metadata": {},
   "outputs": [
    {
     "data": {
      "text/plain": [
       "Index(['Customer_Age', 'Dependent_count', 'Months_on_book',\n",
       "       'Total_Relationship_Count', 'Months_Inactive_12_mon',\n",
       "       'Contacts_Count_12_mon', 'Credit_Limit', 'Total_Revolving_Bal',\n",
       "       'Avg_Open_To_Buy', 'Total_Amt_Chng_Q4_Q1', 'Total_Trans_Amt',\n",
       "       'Total_Trans_Ct', 'Total_Ct_Chng_Q4_Q1', 'Avg_Utilization_Ratio',\n",
       "       'Gender_F', 'Gender_M', 'Education_Level_College',\n",
       "       'Education_Level_Doctorate', 'Education_Level_Graduate',\n",
       "       'Education_Level_High School', 'Education_Level_Post-Graduate',\n",
       "       'Education_Level_Uneducated', 'Education_Level_Unknown',\n",
       "       'Marital_Status_Divorced', 'Marital_Status_Married',\n",
       "       'Marital_Status_Single', 'Marital_Status_Unknown',\n",
       "       'Income_Category_$120K +', 'Income_Category_$40K - $60K',\n",
       "       'Income_Category_$60K - $80K', 'Income_Category_$80K - $120K',\n",
       "       'Income_Category_Less than $40K', 'Income_Category_Unknown',\n",
       "       'Card_Category_Blue', 'Card_Category_Gold', 'Card_Category_Platinum',\n",
       "       'Card_Category_Silver', 'grp'],\n",
       "      dtype='object')"
      ]
     },
     "execution_count": 65,
     "metadata": {},
     "output_type": "execute_result"
    }
   ],
   "source": [
    "df.columns"
   ]
  },
  {
   "cell_type": "code",
   "execution_count": null,
   "metadata": {},
   "outputs": [],
   "source": []
  },
  {
   "cell_type": "code",
   "execution_count": null,
   "metadata": {},
   "outputs": [],
   "source": []
  },
  {
   "cell_type": "code",
   "execution_count": null,
   "metadata": {},
   "outputs": [],
   "source": []
  }
 ],
 "metadata": {
  "kernelspec": {
   "display_name": "Python 3",
   "language": "python",
   "name": "python3"
  },
  "language_info": {
   "codemirror_mode": {
    "name": "ipython",
    "version": 3
   },
   "file_extension": ".py",
   "mimetype": "text/x-python",
   "name": "python",
   "nbconvert_exporter": "python",
   "pygments_lexer": "ipython3",
   "version": "3.7.4"
  }
 },
 "nbformat": 4,
 "nbformat_minor": 2
}
