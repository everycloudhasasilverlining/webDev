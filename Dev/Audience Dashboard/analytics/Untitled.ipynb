{
 "cells": [
  {
   "cell_type": "code",
   "execution_count": 60,
   "metadata": {},
   "outputs": [],
   "source": [
    "import pandas as pd\n",
    "import numpy as np\n",
    "\n",
    "from sklearn.cluster import KMeans, MiniBatchKMeans\n",
    "from sklearn.preprocessing import MinMaxScaler\n",
    "\n",
    "import json"
   ]
  },
  {
   "cell_type": "code",
   "execution_count": 108,
   "metadata": {},
   "outputs": [],
   "source": [
    "n_clusters = 8\n",
    "n_components = 2\n",
    "\n",
    "\n",
    "# Load Dataset\n",
    "df = pd.read_csv(\"BankChurners.csv\")\n",
    "df = df.iloc[:, :-2]\n",
    "df.set_index('CLIENTNUM', inplace=True)\n",
    "\n",
    "# One-hot Encoding\n",
    "dfOrigin = df.copy()\n",
    "df = pd.get_dummies(df)\n",
    "\n",
    "# normalize\n",
    "scaler = MinMaxScaler()\n",
    "dfNorm = scaler.fit_transform(df)\n",
    "\n",
    "# Kmeans Clustering\n",
    "km = MiniBatchKMeans(n_clusters=n_clusters, random_state=2021)\n",
    "dfPred = km.fit_predict(dfNorm)\n",
    "\n",
    "df['grp'] = dfPred\n",
    "dfOrigin['grp'] = dfPred\n",
    "\n",
    "p = PCA(n_components=n_components)\n",
    "dfPca = p.fit_transform(dfNorm)\n",
    "dfPca = pd.DataFrame(dfPca, index=dfOrigin.index, columns=['x', 'y'])\n",
    "dfPca['grp'] = dfOrigin.grp\n",
    "\n",
    "t1 = pd.DataFrame(dfPca.groupby('grp').mean())\n",
    "t2 = pd.DataFrame(dfPca.groupby('grp').size(), columns=['r'])\n",
    "t2 = t2.apply(lambda x: x/np.array(t2).sum()*180, axis=0)\n",
    "t3 = pd.merge(t1, t2, left_index=True, right_index=True)\n",
    "clusterValue = t3.to_json(orient='records')\n"
   ]
  },
  {
   "cell_type": "code",
   "execution_count": 115,
   "metadata": {},
   "outputs": [
    {
     "data": {
      "text/plain": [
       "'[{\"x\":-0.9275793151,\"y\":-0.1222700627,\"r\":42.3560778118},{\"x\":0.7414916716,\"y\":-0.6119883027,\"r\":24.6351338007},{\"x\":-0.7542854566,\"y\":0.1044583803,\"r\":17.0810704058},{\"x\":-0.3625294273,\"y\":0.6969212428,\"r\":16.3878740002},{\"x\":0.9183993499,\"y\":0.7090956103,\"r\":20.2804384319},{\"x\":-0.4927698037,\"y\":-0.1776714155,\"r\":24.795102202},{\"x\":1.0063014424,\"y\":-0.4856346781,\"r\":21.2935716402},{\"x\":0.9120183491,\"y\":0.5630274431,\"r\":13.1707317073}]'"
      ]
     },
     "execution_count": 115,
     "metadata": {},
     "output_type": "execute_result"
    }
   ],
   "source": [
    "clusterValue"
   ]
  },
  {
   "cell_type": "code",
   "execution_count": 178,
   "metadata": {},
   "outputs": [
    {
     "data": {
      "text/plain": [
       "array([1, 3, 6, 0, 7, 4, 5, 2])"
      ]
     },
     "execution_count": 178,
     "metadata": {},
     "output_type": "execute_result"
    }
   ],
   "source": [
    "dfOrigin.grp.unique()"
   ]
  },
  {
   "cell_type": "code",
   "execution_count": 20,
   "metadata": {},
   "outputs": [],
   "source": [
    "# data preprocess\n",
    "\n",
    "df = pd.read_csv(\"BankChurners.csv\")\n",
    "df = df.iloc[:,:-2]"
   ]
  },
  {
   "cell_type": "code",
   "execution_count": 21,
   "metadata": {},
   "outputs": [],
   "source": [
    "df.set_index('CLIENTNUM', inplace=True)"
   ]
  },
  {
   "cell_type": "code",
   "execution_count": 22,
   "metadata": {},
   "outputs": [],
   "source": [
    "dfOrigin = df.copy()"
   ]
  },
  {
   "cell_type": "code",
   "execution_count": 23,
   "metadata": {},
   "outputs": [],
   "source": [
    "df = pd.get_dummies(df)"
   ]
  },
  {
   "cell_type": "code",
   "execution_count": 24,
   "metadata": {},
   "outputs": [],
   "source": [
    "scaler = MinMaxScaler()\n",
    "dfNorm = scaler.fit_transform(df)"
   ]
  },
  {
   "cell_type": "code",
   "execution_count": 25,
   "metadata": {},
   "outputs": [],
   "source": [
    "# Kmeans Clustering\n",
    "km = MiniBatchKMeans(n_clusters=8)\n",
    "dfPred = km.fit_predict(dfNorm)"
   ]
  },
  {
   "cell_type": "code",
   "execution_count": 26,
   "metadata": {},
   "outputs": [],
   "source": [
    "df['grp'] = dfPred\n",
    "dfOrigin['grp'] = dfPred"
   ]
  },
  {
   "cell_type": "code",
   "execution_count": 27,
   "metadata": {},
   "outputs": [],
   "source": [
    "# reduce to 2 dim\n",
    "\n",
    "from sklearn.decomposition import PCA\n",
    "\n",
    "n_components = 2\n",
    "\n",
    "p = PCA(n_components=n_components)\n",
    "dfPca = p.fit_transform(dfNorm)\n",
    "dfPca = pd.DataFrame(dfPca, index=dfOrigin.index, columns=['pca'+str(i) for i in range(n_components)])\n",
    "dfPca['grp'] = dfOrigin.grp"
   ]
  },
  {
   "cell_type": "code",
   "execution_count": 28,
   "metadata": {},
   "outputs": [],
   "source": [
    "t1 = pd.DataFrame(dfPca.groupby('grp').mean())\n",
    "t2 = pd.DataFrame(dfPca.groupby('grp').size(), columns=['c'])\n",
    "t2 = t2.apply(lambda x: x/np.array(t2).sum(), axis=0)"
   ]
  },
  {
   "cell_type": "code",
   "execution_count": 29,
   "metadata": {},
   "outputs": [],
   "source": [
    "t3 = pd.merge(t1, t2, left_index=True, right_index=True)"
   ]
  },
  {
   "cell_type": "code",
   "execution_count": 30,
   "metadata": {},
   "outputs": [
    {
     "data": {
      "text/plain": [
       "Index(['Attrition_Flag', 'Customer_Age', 'Gender', 'Dependent_count',\n",
       "       'Education_Level', 'Marital_Status', 'Income_Category', 'Card_Category',\n",
       "       'Months_on_book', 'Total_Relationship_Count', 'Months_Inactive_12_mon',\n",
       "       'Contacts_Count_12_mon', 'Credit_Limit', 'Total_Revolving_Bal',\n",
       "       'Avg_Open_To_Buy', 'Total_Amt_Chng_Q4_Q1', 'Total_Trans_Amt',\n",
       "       'Total_Trans_Ct', 'Total_Ct_Chng_Q4_Q1', 'Avg_Utilization_Ratio',\n",
       "       'grp'],\n",
       "      dtype='object')"
      ]
     },
     "execution_count": 30,
     "metadata": {},
     "output_type": "execute_result"
    }
   ],
   "source": [
    "dfOrigin.columns"
   ]
  },
  {
   "cell_type": "code",
   "execution_count": 39,
   "metadata": {
    "scrolled": true
   },
   "outputs": [],
   "source": [
    "t = dfOrigin[dfOrigin.grp==0] \\\n",
    "        [['Customer_Age', 'Months_on_book', 'Credit_Limit', 'Total_Trans_Amt', 'Avg_Utilization_Ratio', 'Total_Trans_Ct', 'Months_Inactive_12_mon', 'Contacts_Count_12_mon']].mean()"
   ]
  },
  {
   "cell_type": "code",
   "execution_count": 52,
   "metadata": {},
   "outputs": [
    {
     "data": {
      "text/plain": [
       "{'Customer_Age': 46.636649214659684,\n",
       " 'Months_on_book': 36.158115183246075,\n",
       " 'Credit_Limit': 4506.669738219891,\n",
       " 'Total_Trans_Amt': 2792.875392670157,\n",
       " 'Avg_Utilization_Ratio': 0.20657172774869093,\n",
       " 'Total_Trans_Ct': 43.98848167539267,\n",
       " 'Months_Inactive_12_mon': 2.695287958115183,\n",
       " 'Contacts_Count_12_mon': 2.943455497382199}"
      ]
     },
     "execution_count": 52,
     "metadata": {},
     "output_type": "execute_result"
    }
   ],
   "source": [
    "t.to_dict()"
   ]
  },
  {
   "cell_type": "code",
   "execution_count": 53,
   "metadata": {},
   "outputs": [],
   "source": [
    "dictSegment = {}\n",
    "for i in range(8):\n",
    "    t = dfOrigin[dfOrigin.grp==i] \\\n",
    "        [['Customer_Age', 'Months_on_book', 'Credit_Limit', 'Total_Trans_Amt', 'Avg_Utilization_Ratio', 'Total_Trans_Ct', 'Months_Inactive_12_mon', 'Contacts_Count_12_mon']].mean()\n",
    "    t = t.to_dict()\n",
    "    \n",
    "    dictSegment[i+1] = t"
   ]
  },
  {
   "cell_type": "code",
   "execution_count": 61,
   "metadata": {},
   "outputs": [
    {
     "data": {
      "text/plain": [
       "'{\"1\": {\"Customer_Age\": 46.636649214659684, \"Months_on_book\": 36.158115183246075, \"Credit_Limit\": 4506.669738219891, \"Total_Trans_Amt\": 2792.875392670157, \"Avg_Utilization_Ratio\": 0.20657172774869093, \"Total_Trans_Ct\": 43.98848167539267, \"Months_Inactive_12_mon\": 2.695287958115183, \"Contacts_Count_12_mon\": 2.943455497382199}, \"2\": {\"Customer_Age\": 46.09988385598142, \"Months_on_book\": 35.86062717770035, \"Credit_Limit\": 11552.567363530776, \"Total_Trans_Amt\": 4418.275261324042, \"Avg_Utilization_Ratio\": 0.22418815331010478, \"Total_Trans_Ct\": 61.47038327526133, \"Months_Inactive_12_mon\": 2.343786295005807, \"Contacts_Count_12_mon\": 2.5365853658536586}, \"3\": {\"Customer_Age\": 45.98193411264612, \"Months_on_book\": 35.5249734325186, \"Credit_Limit\": 7910.00903294367, \"Total_Trans_Amt\": 4834.489904357067, \"Avg_Utilization_Ratio\": 0.2938682252922426, \"Total_Trans_Ct\": 73.24548352816153, \"Months_Inactive_12_mon\": 2.2996811902231666, \"Contacts_Count_12_mon\": 2.343251859723698}, \"4\": {\"Customer_Age\": 45.651112706389085, \"Months_on_book\": 35.54199569274946, \"Credit_Limit\": 9471.037688442218, \"Total_Trans_Amt\": 4682.819813352477, \"Avg_Utilization_Ratio\": 0.2209045226130654, \"Total_Trans_Ct\": 66.9935391241924, \"Months_Inactive_12_mon\": 2.3223259152907394, \"Contacts_Count_12_mon\": 2.4321608040201004}, \"5\": {\"Customer_Age\": 46.62240663900415, \"Months_on_book\": 36.32676348547718, \"Credit_Limit\": 19893.497925311207, \"Total_Trans_Amt\": 4763.607883817427, \"Avg_Utilization_Ratio\": 0.11899792531120326, \"Total_Trans_Ct\": 65.55186721991701, \"Months_Inactive_12_mon\": 2.3226141078838176, \"Contacts_Count_12_mon\": 2.5051867219917012}, \"6\": {\"Customer_Age\": 47.04413928396273, \"Months_on_book\": 36.458558116723886, \"Credit_Limit\": 4717.194458067669, \"Total_Trans_Amt\": 4400.607160372731, \"Avg_Utilization_Ratio\": 0.38512947523295676, \"Total_Trans_Ct\": 67.94801373222168, \"Months_Inactive_12_mon\": 2.260912211868563, \"Contacts_Count_12_mon\": 2.283962726826876}, \"7\": {\"Customer_Age\": 45.831491712707184, \"Months_on_book\": 35.488259668508285, \"Credit_Limit\": 3906.5749309392145, \"Total_Trans_Amt\": 4874.525552486188, \"Avg_Utilization_Ratio\": 0.4005704419889499, \"Total_Trans_Ct\": 73.9488950276243, \"Months_Inactive_12_mon\": 2.296961325966851, \"Contacts_Count_12_mon\": 2.3066298342541436}, \"8\": {\"Customer_Age\": 46.40956749672346, \"Months_on_book\": 35.88204456094364, \"Credit_Limit\": 11845.530144167766, \"Total_Trans_Amt\": 4215.700524246396, \"Avg_Utilization_Ratio\": 0.2157771952817823, \"Total_Trans_Ct\": 59.519659239842724, \"Months_Inactive_12_mon\": 2.32175622542595, \"Contacts_Count_12_mon\": 2.532765399737877}}'"
      ]
     },
     "execution_count": 61,
     "metadata": {},
     "output_type": "execute_result"
    }
   ],
   "source": [
    "json.dumps(dictSegment)"
   ]
  },
  {
   "cell_type": "code",
   "execution_count": 86,
   "metadata": {},
   "outputs": [],
   "source": [
    "dictGender = {}\n",
    "\n",
    "for i in range(8):\n",
    "        t = pd.DataFrame(dfOrigin[dfOrigin.grp == i].groupby(\n",
    "            \"Gender\").size(), columns=['c'])\n",
    "        t = t.apply(lambda x: x/np.array(t).sum(), axis=0)\n",
    "        t.sort_values(by='c', ascending=False, inplace=True)\n",
    "        gender_mf = t.index[0]\n",
    "        if gender_mf == 'F':\n",
    "            gender_mf = 'Female'\n",
    "        else:\n",
    "            gender_mf = 'Male'\n",
    "        gender_ratio = '{:.1f}'.format(t.iloc[0, 0]*100)\n",
    "\n",
    "        dictSegment[i+1] = t\n",
    "        dictGender[i+1] = {'gender_mf': gender_mf,\n",
    "                           'gender_ratio': gender_ratio}"
   ]
  },
  {
   "cell_type": "code",
   "execution_count": 84,
   "metadata": {},
   "outputs": [],
   "source": [
    "dictGender = json.dumps(dictGender)"
   ]
  },
  {
   "cell_type": "code",
   "execution_count": 85,
   "metadata": {},
   "outputs": [
    {
     "data": {
      "text/plain": [
       "'{\"1\": {\"gender_mf\": \"Female\", \"gender_ratio\": \"97.4\"}, \"2\": {\"gender_mf\": \"Male\", \"gender_ratio\": \"100.0\"}, \"3\": {\"gender_mf\": \"Female\", \"gender_ratio\": \"100.0\"}, \"4\": {\"gender_mf\": \"Male\", \"gender_ratio\": \"100.0\"}, \"5\": {\"gender_mf\": \"Male\", \"gender_ratio\": \"100.0\"}, \"6\": {\"gender_mf\": \"Female\", \"gender_ratio\": \"100.0\"}, \"7\": {\"gender_mf\": \"Female\", \"gender_ratio\": \"100.0\"}, \"8\": {\"gender_mf\": \"Male\", \"gender_ratio\": \"100.0\"}}'"
      ]
     },
     "execution_count": 85,
     "metadata": {},
     "output_type": "execute_result"
    }
   ],
   "source": [
    "dictGender"
   ]
  },
  {
   "cell_type": "code",
   "execution_count": 94,
   "metadata": {},
   "outputs": [
    {
     "data": {
      "text/plain": [
       "{'gender_mf': 'Male', 'gender_ratio': '100.0'}"
      ]
     },
     "execution_count": 94,
     "metadata": {},
     "output_type": "execute_result"
    }
   ],
   "source": [
    "dictGender[8]"
   ]
  },
  {
   "cell_type": "code",
   "execution_count": 80,
   "metadata": {},
   "outputs": [
    {
     "data": {
      "text/plain": [
       "['F', '97.4']"
      ]
     },
     "execution_count": 80,
     "metadata": {},
     "output_type": "execute_result"
    }
   ],
   "source": [
    "dictGender[1]"
   ]
  },
  {
   "cell_type": "code",
   "execution_count": null,
   "metadata": {},
   "outputs": [],
   "source": [
    "pd.DataFrame(dfOrigin[dfOrigin.grp == i].groupby(\n",
    "            \"Gender\").size(), columns=['c'])"
   ]
  },
  {
   "cell_type": "code",
   "execution_count": 95,
   "metadata": {},
   "outputs": [
    {
     "data": {
      "text/html": [
       "<div>\n",
       "<style scoped>\n",
       "    .dataframe tbody tr th:only-of-type {\n",
       "        vertical-align: middle;\n",
       "    }\n",
       "\n",
       "    .dataframe tbody tr th {\n",
       "        vertical-align: top;\n",
       "    }\n",
       "\n",
       "    .dataframe thead th {\n",
       "        text-align: right;\n",
       "    }\n",
       "</style>\n",
       "<table border=\"1\" class=\"dataframe\">\n",
       "  <thead>\n",
       "    <tr style=\"text-align: right;\">\n",
       "      <th></th>\n",
       "      <th>c</th>\n",
       "    </tr>\n",
       "    <tr>\n",
       "      <th>Gender</th>\n",
       "      <th></th>\n",
       "    </tr>\n",
       "  </thead>\n",
       "  <tbody>\n",
       "    <tr>\n",
       "      <td>M</td>\n",
       "      <td>861</td>\n",
       "    </tr>\n",
       "  </tbody>\n",
       "</table>\n",
       "</div>"
      ],
      "text/plain": [
       "          c\n",
       "Gender     \n",
       "M       861"
      ]
     },
     "execution_count": 95,
     "metadata": {},
     "output_type": "execute_result"
    }
   ],
   "source": [
    "pd.DataFrame(dfOrigin[dfOrigin.grp == 1].groupby(\"Gender\").size(), columns=['c'])"
   ]
  },
  {
   "cell_type": "code",
   "execution_count": 104,
   "metadata": {},
   "outputs": [],
   "source": [
    "t3 = pd.DataFrame(dfOrigin.groupby(\"grp\").size(), columns=['c'])\n",
    "t3 = t3.apply(lambda x: x/np.array(t3).sum()*100, axis=0)\n",
    "t3 = t3.to_dict()\n",
    "t3 = t3['c']"
   ]
  },
  {
   "cell_type": "code",
   "execution_count": 105,
   "metadata": {},
   "outputs": [
    {
     "data": {
      "text/plain": [
       "{0: 9.430236002764886,\n",
       " 1: 8.502024291497975,\n",
       " 2: 9.291991705342156,\n",
       " 3: 13.755307593561767,\n",
       " 4: 9.519107336822357,\n",
       " 5: 20.134294460353512,\n",
       " 6: 14.298410190579638,\n",
       " 7: 15.068628419077712}"
      ]
     },
     "execution_count": 105,
     "metadata": {},
     "output_type": "execute_result"
    }
   ],
   "source": [
    "t3"
   ]
  },
  {
   "cell_type": "code",
   "execution_count": 106,
   "metadata": {},
   "outputs": [
    {
     "ename": "NameError",
     "evalue": "name 'clusterValue' is not defined",
     "output_type": "error",
     "traceback": [
      "\u001b[0;31m---------------------------------------------------------------------------\u001b[0m",
      "\u001b[0;31mNameError\u001b[0m                                 Traceback (most recent call last)",
      "\u001b[0;32m<ipython-input-106-1b0cf17c4e31>\u001b[0m in \u001b[0;36m<module>\u001b[0;34m\u001b[0m\n\u001b[0;32m----> 1\u001b[0;31m \u001b[0mclusterValue\u001b[0m\u001b[0;34m\u001b[0m\u001b[0;34m\u001b[0m\u001b[0m\n\u001b[0m",
      "\u001b[0;31mNameError\u001b[0m: name 'clusterValue' is not defined"
     ]
    }
   ],
   "source": [
    "clusterValue"
   ]
  },
  {
   "cell_type": "code",
   "execution_count": null,
   "metadata": {},
   "outputs": [],
   "source": []
  },
  {
   "cell_type": "code",
   "execution_count": null,
   "metadata": {},
   "outputs": [],
   "source": []
  },
  {
   "cell_type": "code",
   "execution_count": 236,
   "metadata": {},
   "outputs": [
    {
     "data": {
      "text/plain": [
       "'[{\"pca0\":-0.7760367656,\"pca1\":0.7471545716,\"c\":0.2098350943},{\"pca0\":-0.757035237,\"pca1\":-0.4844752519,\"c\":0.3192455811},{\"pca0\":0.8588027106,\"pca1\":-0.6563047136,\"c\":0.2207958922},{\"pca0\":0.8591749653,\"pca1\":0.5709049997,\"c\":0.2501234324}]'"
      ]
     },
     "execution_count": 236,
     "metadata": {},
     "output_type": "execute_result"
    }
   ],
   "source": [
    "t3.to_json(orient='records')"
   ]
  },
  {
   "cell_type": "code",
   "execution_count": null,
   "metadata": {},
   "outputs": [],
   "source": []
  },
  {
   "cell_type": "code",
   "execution_count": 145,
   "metadata": {},
   "outputs": [],
   "source": [
    "# Gender\n",
    "t = pd.DataFrame(dfOrigin.groupby(\"Gender\").size(), columns=['c'])\n",
    "t = t.apply(lambda x: x/np.array(t).sum(), axis=0)\n",
    "t.sort_values(by='c', ascending=False, inplace=True)\n",
    "gender_mf = t.index[0]\n",
    "gender_ratio = '{:.1f}'.format(t.iloc[0, 0]*100)"
   ]
  },
  {
   "cell_type": "code",
   "execution_count": 164,
   "metadata": {},
   "outputs": [],
   "source": [
    "# Age\n",
    "dfOrigin['Customer_Age_g'] = dfOrigin.Customer_Age//10*10\n",
    "t = pd.DataFrame(dfOrigin.groupby(\"Customer_Age_g\").size(), columns=['c'])\n",
    "t = t.apply(lambda x: x/np.array(t).sum(), axis=0)\n",
    "t.sort_values(by='c', ascending=False, inplace=True)\n",
    "age_g = t.index[0]\n",
    "age_ratio_ratio = '{:.1f}'.format(t.iloc[0, 0]*100)"
   ]
  },
  {
   "cell_type": "code",
   "execution_count": 172,
   "metadata": {},
   "outputs": [],
   "source": [
    "# MOB\n",
    "mob = '{:.1f}'.format(dfOrigin.Months_on_book.mean())"
   ]
  },
  {
   "cell_type": "code",
   "execution_count": 174,
   "metadata": {},
   "outputs": [],
   "source": [
    "# credit Limit\n",
    "Credit_Limit = '{:.1f}'.format(dfOrigin.Credit_Limit.mean())"
   ]
  },
  {
   "cell_type": "code",
   "execution_count": 177,
   "metadata": {},
   "outputs": [],
   "source": [
    "# Total_trans Amt\n",
    "Usage = '{:.1f}'.format(dfOrigin.Total_Trans_Amt.mean())"
   ]
  },
  {
   "cell_type": "code",
   "execution_count": 180,
   "metadata": {},
   "outputs": [],
   "source": [
    "# average util ratio\n",
    "utilRatio = '{:.1f}'.format(dfOrigin.Avg_Utilization_Ratio.mean()*100)"
   ]
  },
  {
   "cell_type": "code",
   "execution_count": 186,
   "metadata": {},
   "outputs": [],
   "source": [
    "# average open to buy\n",
    "avgCnt = '{:.1f}'.format(dfOrigin.Total_Trans_Ct.mean())"
   ]
  },
  {
   "cell_type": "code",
   "execution_count": 188,
   "metadata": {},
   "outputs": [],
   "source": [
    "# average open to buy\n",
    "avgMthInactive = '{:.1f}'.format(dfOrigin.Months_Inactive_12_mon.mean())"
   ]
  },
  {
   "cell_type": "code",
   "execution_count": 189,
   "metadata": {},
   "outputs": [],
   "source": [
    "# average open to buy\n",
    "avgContact = '{:.1f}'.format(dfOrigin.Contacts_Count_12_mon.mean())"
   ]
  },
  {
   "cell_type": "code",
   "execution_count": null,
   "metadata": {},
   "outputs": [],
   "source": [
    "# average open to buy\n",
    "avgMthInactive = '{:.1f}'.format(dfOrigin.Months_Inactive_12_mon.mean())"
   ]
  },
  {
   "cell_type": "code",
   "execution_count": 191,
   "metadata": {},
   "outputs": [
    {
     "data": {
      "text/plain": [
       "Index(['Attrition_Flag', 'Customer_Age', 'Gender', 'Dependent_count',\n",
       "       'Education_Level', 'Marital_Status', 'Income_Category', 'Card_Category',\n",
       "       'Months_on_book', 'Total_Relationship_Count', 'Months_Inactive_12_mon',\n",
       "       'Contacts_Count_12_mon', 'Credit_Limit', 'Total_Revolving_Bal',\n",
       "       'Avg_Open_To_Buy', 'Total_Amt_Chng_Q4_Q1', 'Total_Trans_Amt',\n",
       "       'Total_Trans_Ct', 'Total_Ct_Chng_Q4_Q1', 'Avg_Utilization_Ratio', 'grp',\n",
       "       'Customer_Age_g'],\n",
       "      dtype='object')"
      ]
     },
     "execution_count": 191,
     "metadata": {},
     "output_type": "execute_result"
    }
   ],
   "source": [
    "dfOrigin.columns"
   ]
  },
  {
   "cell_type": "code",
   "execution_count": 193,
   "metadata": {},
   "outputs": [],
   "source": [
    "t = pd.DataFrame(dfOrigin.groupby(\"Marital_Status\").size(), columns=['c'])\n",
    "t = t.apply(lambda x: x/np.array(t).sum(), axis=0)\n"
   ]
  },
  {
   "cell_type": "code",
   "execution_count": 202,
   "metadata": {},
   "outputs": [
    {
     "data": {
      "text/plain": [
       "[0.07386195319443073,\n",
       " 0.4628221585859583,\n",
       " 0.3893551890984497,\n",
       " 0.07396069912116125]"
      ]
     },
     "execution_count": 202,
     "metadata": {},
     "output_type": "execute_result"
    }
   ],
   "source": [
    "list(t.c)"
   ]
  },
  {
   "cell_type": "code",
   "execution_count": 203,
   "metadata": {},
   "outputs": [
    {
     "data": {
      "text/plain": [
       "Index(['Attrition_Flag', 'Customer_Age', 'Gender', 'Dependent_count',\n",
       "       'Education_Level', 'Marital_Status', 'Income_Category', 'Card_Category',\n",
       "       'Months_on_book', 'Total_Relationship_Count', 'Months_Inactive_12_mon',\n",
       "       'Contacts_Count_12_mon', 'Credit_Limit', 'Total_Revolving_Bal',\n",
       "       'Avg_Open_To_Buy', 'Total_Amt_Chng_Q4_Q1', 'Total_Trans_Amt',\n",
       "       'Total_Trans_Ct', 'Total_Ct_Chng_Q4_Q1', 'Avg_Utilization_Ratio', 'grp',\n",
       "       'Customer_Age_g'],\n",
       "      dtype='object')"
      ]
     },
     "execution_count": 203,
     "metadata": {},
     "output_type": "execute_result"
    }
   ],
   "source": [
    "dfOrigin.columns"
   ]
  },
  {
   "cell_type": "code",
   "execution_count": 198,
   "metadata": {},
   "outputs": [],
   "source": [
    "r = t.to_json(orient='index')"
   ]
  },
  {
   "cell_type": "code",
   "execution_count": 199,
   "metadata": {},
   "outputs": [
    {
     "data": {
      "text/plain": [
       "'{\"Divorced\":{\"c\":0.0738619532},\"Married\":{\"c\":0.4628221586},\"Single\":{\"c\":0.3893551891},\"Unknown\":{\"c\":0.0739606991}}'"
      ]
     },
     "execution_count": 199,
     "metadata": {},
     "output_type": "execute_result"
    }
   ],
   "source": []
  },
  {
   "cell_type": "code",
   "execution_count": null,
   "metadata": {},
   "outputs": [],
   "source": []
  },
  {
   "cell_type": "code",
   "execution_count": null,
   "metadata": {},
   "outputs": [],
   "source": [
    ">>> result = df.to_json(orient=\"split\")\n",
    ">>> parsed = json.loads(result)\n",
    ">>> json.dumps(parsed, indent=4) "
   ]
  }
 ],
 "metadata": {
  "kernelspec": {
   "display_name": "Python 3",
   "language": "python",
   "name": "python3"
  },
  "language_info": {
   "codemirror_mode": {
    "name": "ipython",
    "version": 3
   },
   "file_extension": ".py",
   "mimetype": "text/x-python",
   "name": "python",
   "nbconvert_exporter": "python",
   "pygments_lexer": "ipython3",
   "version": "3.7.4"
  }
 },
 "nbformat": 4,
 "nbformat_minor": 2
}
